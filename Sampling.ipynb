{
  "nbformat": 4,
  "nbformat_minor": 0,
  "metadata": {
    "colab": {
      "name": "Sampling.ipynb",
      "provenance": [],
      "collapsed_sections": [],
      "authorship_tag": "ABX9TyPkXhCyHC/FzFPb0tqPmY6g",
      "include_colab_link": true
    },
    "kernelspec": {
      "name": "python3",
      "display_name": "Python 3"
    }
  },
  "cells": [
    {
      "cell_type": "markdown",
      "metadata": {
        "id": "view-in-github",
        "colab_type": "text"
      },
      "source": [
        "<a href=\"https://colab.research.google.com/github/shaneahmed/StatswithPython/blob/main/Sampling.ipynb\" target=\"_parent\"><img src=\"https://colab.research.google.com/assets/colab-badge.svg\" alt=\"Open In Colab\"/></a>"
      ]
    },
    {
      "cell_type": "markdown",
      "metadata": {
        "id": "gu8DN0NFPrrp"
      },
      "source": [
        "# Sampling\n",
        "by Fayyaz Minhas\n",
        "---\n",
        "\n",
        "\n",
        "\n",
        "**Name: (Please write your name and ID here prior to submission)**\n",
        "\n",
        "\n",
        "\n",
        "---\n",
        "\n",
        "\n",
        "In this exercise we will generate random samples from different distributions. Firstly, let's generate some uniform random samples and plot their histogram. Then we will plot the probability density function (PDF) and the Cumulative density function (CDF) for this data. You will need to understand the plt.hist function at: https://matplotlib.org/3.1.1/api/_as_gen/matplotlib.pyplot.hist.html "
      ]
    },
    {
      "cell_type": "code",
      "metadata": {
        "colab": {
          "base_uri": "https://localhost:8080/",
          "height": 803
        },
        "id": "BkkyxVrF98nI",
        "outputId": "54bb0bef-50f6-4827-f959-184e173a6bb5"
      },
      "source": [
        "import numpy as np\n",
        "import matplotlib.pyplot as plt\n",
        "# generating samples from the uniform random distribution\n",
        "N = 1000 #number of samples\n",
        "s = np.random.normal(0,1,N)\n",
        "#plot the histogram\n",
        "plt.hist(s); plt.xlabel('x');plt.ylabel('counts');plt.show()\n",
        "plt.hist(s,density=True); plt.xlabel('x');plt.ylabel('p(x)');plt.show()\n",
        "plt.hist(s,density = True, cumulative=True); plt.xlabel('x');plt.ylabel('F(x)');plt.show()"
      ],
      "execution_count": null,
      "outputs": [
        {
          "output_type": "display_data",
          "data": {
            "image/png": "[encoded data removed]",
            "text/plain": [
              "<Figure size 432x288 with 1 Axes>"
            ]
          },
          "metadata": {
            "tags": [],
            "needs_background": "light"
          }
        },
        {
          "output_type": "display_data",
          "data": {
            "image/png": "[encoded data removed]",
            "text/plain": [
              "<Figure size 432x288 with 1 Axes>"
            ]
          },
          "metadata": {
            "tags": [],
            "needs_background": "light"
          }
        },
        {
          "output_type": "display_data",
          "data": {
            "image/png": "[encoded data removed]",
            "text/plain": [
              "<Figure size 432x288 with 1 Axes>"
            ]
          },
          "metadata": {
            "tags": [],
            "needs_background": "light"
          }
        }
      ]
    },
    {
      "cell_type": "markdown",
      "metadata": {
        "id": "XDvAfyFhQKFD"
      },
      "source": [
        "Questions: [Percentage: 100]\n",
        "\n",
        "1. Theory: What is the difference between a histogram, a probability density function, a probability mass function and a cumulative distribution function? [25]\n",
        "\n",
        "2. Coding: Add code in the cell below to generate random numbers from the normal distribution, plot the histogram, density function and the corresponding CDF. You will need to explore: https://docs.scipy.org/doc/numpy-1.15.0/reference/routines.random.html [25]\n",
        "\n",
        "3. Theory: In your own words, describe the process of generating random numbers from an arbitrary distribution based on the inverse CDF method.  [25]\n",
        "\n",
        "4. Application: Write code to estimate the value of pi using rejection sampling based Monte-Carlo method discussed in the lecture. Specifically, generate $N$ pairs of uniform random numbers (x,y) in the range $x\\in[-1,1]$ and $y\\in[-1,1]$ and count how many pairs (darts) land inside the unit circle by checking how many satisfy the constrain $x^2+y^2<1$. [25]"
      ]
    }
  ]
}