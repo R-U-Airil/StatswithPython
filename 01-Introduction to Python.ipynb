{
  "nbformat": 4,
  "nbformat_minor": 0,
  "metadata": {
    "kernelspec": {
      "display_name": "Python 3",
      "language": "python",
      "name": "python3"
    },
    "language_info": {
      "codemirror_mode": {
        "name": "ipython",
        "version": 3
      },
      "file_extension": ".py",
      "mimetype": "text/x-python",
      "name": "python",
      "nbconvert_exporter": "python",
      "pygments_lexer": "ipython3",
      "version": "3.7.7"
    },
    "colab": {
      "name": "01-Introduction to Python.ipynb",
      "provenance": []
    }
  },
  "cells": [
    {
      "cell_type": "markdown",
      "metadata": {
        "id": "nZc1D_EimXy_"
      },
      "source": [
        "[![Open In Colab](https://colab.research.google.com/assets/colab-badge.svg)](https://colab.research.google.com/github/shaneahmed/DAStats/blob/main/Introduction%20to%20Python.ipynb) \n",
        "\n",
        "[![Open In Kaggle](https://kaggle.com/static/images/open-in-kaggle.svg)](https://kaggle.com/kernels/welcome?src=https://github.com/shaneahmed/DAStats/blob/main/Introduction%20to%20Python.ipynb)\n",
        "\n",
        "\n",
        "# Introduction to Python\n",
        "\n",
        "<b> Gabriele Pergola (gabriele.pergola@warwick.ac.uk) </b> <br> \n",
        "Credits to James Ravenscroft and [Python beginners guide](https://www.python.org/about/gettingstarted/).\n",
        "\n",
        "Python is simple to use, but it is a real programming language, offering much more structure and support for large programs\n",
        "than shell scripts or batch files can offer.\n",
        "If you do much work on computers, eventually you find that there’s some task you’d like to automate. Python can help you automate those tasks.\n",
        "\n",
        "It is a general purpose scripting language frequently used for data science and machine learning applications. It is open source and available on many different platforms (Windows, Mac OSX, Linux, Android and more)\n",
        "\n",
        "### Versions\n",
        "In [December 2019](https://pythonclock.org/) the Python foundation has stopped the support for the 2.X family. Therefore, we will be focussing on Python 3.X only.\n"
      ]
    },
    {
      "cell_type": "markdown",
      "metadata": {
        "id": "r_uWRX6emXzf"
      },
      "source": [
        "---------------------------------------------------------------------\n",
        "## Basic Syntax\n",
        "\n",
        " * Python 3 looks like many other modern programming languages such as C, Java, PHP and Perl. \n",
        " * There are no semi-colons at the end of lines\n",
        " \n",
        " <img src=\"https://pbs.twimg.com/media/DIU3U8gVoAE4wIQ.jpg\" width=\"250\" height=\"150\">"
      ]
    },
    {
      "cell_type": "markdown",
      "metadata": {
        "id": "BspH70P9mXzh"
      },
      "source": [
        "------------------------------------------------\n",
        "## Using Python as a Calculator\n",
        "Python interpreter acts as a simple calculator: you can type an expression at it and it will write the value. Expression syntax is straightforward: the operators +, -, * and / work just like in most other languages. Let’s try some simple Python commands."
      ]
    },
    {
      "cell_type": "code",
      "metadata": {
        "id": "7-u8UGDkmXzi",
        "outputId": "c0c89ef1-cb6d-4a87-c730-50ab1f0c07e0"
      },
      "source": [
        "2 + 2"
      ],
      "execution_count": null,
      "outputs": [
        {
          "output_type": "execute_result",
          "data": {
            "text/plain": [
              "4"
            ]
          },
          "metadata": {
            "tags": []
          },
          "execution_count": 1
        }
      ]
    },
    {
      "cell_type": "code",
      "metadata": {
        "id": "f5vGSANomXzk",
        "outputId": "564294b7-15a0-437b-b6c7-c0ed5a4e1b02"
      },
      "source": [
        "50 - 5*6"
      ],
      "execution_count": null,
      "outputs": [
        {
          "output_type": "execute_result",
          "data": {
            "text/plain": [
              "20"
            ]
          },
          "metadata": {
            "tags": []
          },
          "execution_count": 2
        }
      ]
    },
    {
      "cell_type": "markdown",
      "metadata": {
        "id": "QktTX3ADmXzl"
      },
      "source": [
        "    Division always returns a floating point number. We will discuss python data types shortly."
      ]
    },
    {
      "cell_type": "code",
      "metadata": {
        "id": "B9HMWOV8mXzl",
        "outputId": "5189d0b5-31f7-49d3-cedb-78d97b8b13f7"
      },
      "source": [
        "8 / 5"
      ],
      "execution_count": null,
      "outputs": [
        {
          "output_type": "execute_result",
          "data": {
            "text/plain": [
              "1.6"
            ]
          },
          "metadata": {
            "tags": []
          },
          "execution_count": 3
        }
      ]
    },
    {
      "cell_type": "markdown",
      "metadata": {
        "id": "JABamgPzmXzm"
      },
      "source": [
        "    Floor division using the operator // discards the fractional part"
      ]
    },
    {
      "cell_type": "code",
      "metadata": {
        "id": "X3Nt63sVmXzm",
        "outputId": "af107513-9f62-45dd-fab8-b0a179400290"
      },
      "source": [
        "8//5"
      ],
      "execution_count": null,
      "outputs": [
        {
          "output_type": "execute_result",
          "data": {
            "text/plain": [
              "1"
            ]
          },
          "metadata": {
            "tags": []
          },
          "execution_count": 4
        }
      ]
    },
    {
      "cell_type": "markdown",
      "metadata": {
        "id": "y_9wGWNImXzn"
      },
      "source": [
        "    The % operator returns the remainder of the division"
      ]
    },
    {
      "cell_type": "code",
      "metadata": {
        "id": "Nhxu0YP3mXzn",
        "outputId": "cf63a4e5-8928-4c9b-d722-c832e9f3a0b8"
      },
      "source": [
        "17 % 3"
      ],
      "execution_count": null,
      "outputs": [
        {
          "output_type": "execute_result",
          "data": {
            "text/plain": [
              "2"
            ]
          },
          "metadata": {
            "tags": []
          },
          "execution_count": 5
        }
      ]
    },
    {
      "cell_type": "markdown",
      "metadata": {
        "id": "snqtVQ-hmXzo"
      },
      "source": [
        "    For power calculations use the ** operator"
      ]
    },
    {
      "cell_type": "code",
      "metadata": {
        "id": "ZCPFvkXOmXzo",
        "outputId": "26115629-6adc-49e3-a521-12a4d445370b"
      },
      "source": [
        "5 ** 2"
      ],
      "execution_count": null,
      "outputs": [
        {
          "output_type": "execute_result",
          "data": {
            "text/plain": [
              "25"
            ]
          },
          "metadata": {
            "tags": []
          },
          "execution_count": 6
        }
      ]
    },
    {
      "cell_type": "markdown",
      "metadata": {
        "id": "N9mMWoXKmXzo"
      },
      "source": [
        "    Parentheses (()) can be used for grouping."
      ]
    },
    {
      "cell_type": "code",
      "metadata": {
        "id": "hkVmfn9wmXzp",
        "outputId": "55eb5b6a-20d2-422b-e059-61578b814ede"
      },
      "source": [
        "(50 - 5*6) / 4"
      ],
      "execution_count": null,
      "outputs": [
        {
          "output_type": "execute_result",
          "data": {
            "text/plain": [
              "5.0"
            ]
          },
          "metadata": {
            "tags": []
          },
          "execution_count": 7
        }
      ]
    },
    {
      "cell_type": "markdown",
      "metadata": {
        "id": "trU8hTe9mXzp"
      },
      "source": [
        "---------------------------------\n",
        "## Variables\n",
        "The equal sign (=) is used to assign a value to a variable. Afterwards, no result is displayed before the next interactive\n",
        "prompt:"
      ]
    },
    {
      "cell_type": "code",
      "metadata": {
        "id": "y14cDEfLmXzp",
        "outputId": "4cb3534d-f52d-4316-e56e-18c04894169e"
      },
      "source": [
        "tax = 12.5 / 100\n",
        "price = 100.50\n",
        "price * tax"
      ],
      "execution_count": null,
      "outputs": [
        {
          "output_type": "execute_result",
          "data": {
            "text/plain": [
              "12.5625"
            ]
          },
          "metadata": {
            "tags": []
          },
          "execution_count": 8
        }
      ]
    },
    {
      "cell_type": "markdown",
      "metadata": {
        "id": "jis7OqtdmXzq"
      },
      "source": [
        "    If a variable is not “defined” (assigned a value), trying to use it will give you an error"
      ]
    },
    {
      "cell_type": "code",
      "metadata": {
        "id": "Qr2CM5-EmXzq",
        "outputId": "768d23e4-da55-4797-9c28-bb8728bb16fe"
      },
      "source": [
        "n"
      ],
      "execution_count": null,
      "outputs": [
        {
          "output_type": "error",
          "ename": "NameError",
          "evalue": "name 'n' is not defined",
          "traceback": [
            "\u001b[1;31m---------------------------------------------------------------------------\u001b[0m",
            "\u001b[1;31mNameError\u001b[0m                                 Traceback (most recent call last)",
            "\u001b[1;32m<ipython-input-9-ab0680a89434>\u001b[0m in \u001b[0;36m<module>\u001b[1;34m\u001b[0m\n\u001b[1;32m----> 1\u001b[1;33m \u001b[0mn\u001b[0m\u001b[1;33m\u001b[0m\u001b[1;33m\u001b[0m\u001b[0m\n\u001b[0m",
            "\u001b[1;31mNameError\u001b[0m: name 'n' is not defined"
          ]
        }
      ]
    },
    {
      "cell_type": "markdown",
      "metadata": {
        "id": "uZ8y6zvJmXzr"
      },
      "source": [
        "    In interactive mode, the last printed expression is assigned to the variable _. This means that when you are using Python as a desk calculator, it is somewhat easier to continue calculations, for example:"
      ]
    },
    {
      "cell_type": "code",
      "metadata": {
        "id": "5KfnxLw2mXzr",
        "outputId": "aceb509c-97b4-4914-ed9a-02c0ef612aef"
      },
      "source": [
        "_"
      ],
      "execution_count": null,
      "outputs": [
        {
          "output_type": "execute_result",
          "data": {
            "text/plain": [
              "12.5625"
            ]
          },
          "metadata": {
            "tags": []
          },
          "execution_count": 10
        }
      ]
    },
    {
      "cell_type": "code",
      "metadata": {
        "id": "YqY9V6mOmXzs",
        "outputId": "0ffaceed-57cc-41d5-c808-d6ead1cb9743"
      },
      "source": [
        "price + _"
      ],
      "execution_count": null,
      "outputs": [
        {
          "output_type": "execute_result",
          "data": {
            "text/plain": [
              "113.0625"
            ]
          },
          "metadata": {
            "tags": []
          },
          "execution_count": 11
        }
      ]
    },
    {
      "cell_type": "code",
      "metadata": {
        "id": "SHvZqAR6mXzs",
        "outputId": "bf5f0509-b3f2-43d1-ce26-22b01d1fd826"
      },
      "source": [
        "round(_, 2)"
      ],
      "execution_count": null,
      "outputs": [
        {
          "output_type": "execute_result",
          "data": {
            "text/plain": [
              "113.06"
            ]
          },
          "metadata": {
            "tags": []
          },
          "execution_count": 12
        }
      ]
    },
    {
      "cell_type": "markdown",
      "metadata": {
        "id": "jbQWKxxHmXzt"
      },
      "source": [
        "--------------------------------------------\n",
        "## Basic Objects and Structures\n"
      ]
    },
    {
      "cell_type": "markdown",
      "metadata": {
        "id": "0Es96WZVmXzu"
      },
      "source": [
        "### Numbers\n",
        "There are four types: integers, floats, booleans and complex numbers."
      ]
    },
    {
      "cell_type": "markdown",
      "metadata": {
        "id": "SvBkU3fomXzu"
      },
      "source": [
        "#### Integer"
      ]
    },
    {
      "cell_type": "code",
      "metadata": {
        "id": "zFFh80i5mXzv",
        "outputId": "f23a022b-5eb6-4eb6-c3e8-d3fe4df32741"
      },
      "source": [
        "an_int = 1\n",
        "print(\"Int:\", an_int)\n",
        "print(type(an_int))"
      ],
      "execution_count": null,
      "outputs": [
        {
          "output_type": "stream",
          "text": [
            "Int: 1\n",
            "<class 'int'>\n"
          ],
          "name": "stdout"
        }
      ]
    },
    {
      "cell_type": "markdown",
      "metadata": {
        "id": "l4svubjJmXzw"
      },
      "source": [
        "#### Float "
      ]
    },
    {
      "cell_type": "code",
      "metadata": {
        "id": "AaauBSQBmXzx",
        "outputId": "82fa6cbe-5bdd-4e63-ca8e-3efa3403fb33"
      },
      "source": [
        "a_float = 1.235\n",
        "print(\"Float:\", a_float)\n",
        "print(type(a_float))"
      ],
      "execution_count": null,
      "outputs": [
        {
          "output_type": "stream",
          "text": [
            "Float: 1.235\n",
            "<class 'float'>\n"
          ],
          "name": "stdout"
        }
      ]
    },
    {
      "cell_type": "markdown",
      "metadata": {
        "id": "zeZJ7RhcmXzy"
      },
      "source": [
        "#### Bool"
      ]
    },
    {
      "cell_type": "code",
      "metadata": {
        "id": "brdVE0_jmXzz",
        "outputId": "664e2bcf-f07c-4d4f-be80-45499b4d1397"
      },
      "source": [
        "a_bool = False\n",
        "print(\"Bool:\",a_bool)\n",
        "print(type(a_bool))"
      ],
      "execution_count": null,
      "outputs": [
        {
          "output_type": "stream",
          "text": [
            "Bool: False\n",
            "<class 'bool'>\n"
          ],
          "name": "stdout"
        }
      ]
    },
    {
      "cell_type": "markdown",
      "metadata": {
        "id": "3MaONax5mXzz"
      },
      "source": [
        "#### Complex Number"
      ]
    },
    {
      "cell_type": "code",
      "metadata": {
        "id": "tiXayrvBmXz0",
        "outputId": "65ad39f5-abc1-4076-89ce-067f55409a8d"
      },
      "source": [
        "a_complex = 2j\n",
        "print(\"Complex:\",a_complex)\n",
        "print(type(a_complex))"
      ],
      "execution_count": null,
      "outputs": [
        {
          "output_type": "stream",
          "text": [
            "Complex: 2j\n",
            "<class 'complex'>\n"
          ],
          "name": "stdout"
        }
      ]
    },
    {
      "cell_type": "markdown",
      "metadata": {
        "id": "FTeYExPqmXz0"
      },
      "source": [
        "### Container Objects\n",
        "\n",
        "<img src=\"https://raw.githubusercontent.com/shaneahmed/StatswithPython/main/data/embedded_images/Containers.jpg\" width=\"500\">\n"
      ]
    },
    {
      "cell_type": "markdown",
      "metadata": {
        "id": "1oMVo1WImXz1"
      },
      "source": [
        "#### Strings\n",
        "Python can manipulate strings, which can be expressed in several ways. They can be enclosed in\n",
        "single quotes ('...') or double quotes (\"...\") with the same result. Comments can be added using the '#' key"
      ]
    },
    {
      "cell_type": "code",
      "metadata": {
        "id": "bPNq3jTymXz1",
        "outputId": "6c6a6a65-eeab-4f4a-fa87-916595c26af9"
      },
      "source": [
        "\"hello world\" # Comments"
      ],
      "execution_count": null,
      "outputs": [
        {
          "output_type": "execute_result",
          "data": {
            "text/plain": [
              "'hello world'"
            ]
          },
          "metadata": {
            "tags": []
          },
          "execution_count": 17
        }
      ]
    },
    {
      "cell_type": "markdown",
      "metadata": {
        "id": "jNWe7gjImXz2"
      },
      "source": [
        "    We can assign a string to a variable"
      ]
    },
    {
      "cell_type": "code",
      "metadata": {
        "id": "1BmgTBEYmXz2",
        "outputId": "38c675aa-3638-4709-9d6b-53d63460a6f8"
      },
      "source": [
        "a_string = \"hello world\"\n",
        "a_string"
      ],
      "execution_count": null,
      "outputs": [
        {
          "output_type": "execute_result",
          "data": {
            "text/plain": [
              "'hello world'"
            ]
          },
          "metadata": {
            "tags": []
          },
          "execution_count": 18
        }
      ]
    },
    {
      "cell_type": "code",
      "metadata": {
        "id": "tOZ-YbTzmXz3",
        "outputId": "0c932ff1-1137-49bf-b86b-00c65c63fd19"
      },
      "source": [
        "'python can't print this string'"
      ],
      "execution_count": null,
      "outputs": [
        {
          "output_type": "error",
          "ename": "SyntaxError",
          "evalue": "invalid syntax (<ipython-input-19-ef648ec2ed19>, line 1)",
          "traceback": [
            "\u001b[1;36m  File \u001b[1;32m\"<ipython-input-19-ef648ec2ed19>\"\u001b[1;36m, line \u001b[1;32m1\u001b[0m\n\u001b[1;33m    'python can't print this string'\u001b[0m\n\u001b[1;37m                ^\u001b[0m\n\u001b[1;31mSyntaxError\u001b[0m\u001b[1;31m:\u001b[0m invalid syntax\n"
          ]
        }
      ]
    },
    {
      "cell_type": "markdown",
      "metadata": {
        "id": "TxpioR0omXz4"
      },
      "source": [
        "    use \\ to escape the single quote"
      ]
    },
    {
      "cell_type": "code",
      "metadata": {
        "scrolled": true,
        "id": "md8usv_UmXz4",
        "outputId": "db201653-ac8a-416e-dbe0-7196b658fad6"
      },
      "source": [
        "'it didn\\'t work before with the quote'"
      ],
      "execution_count": null,
      "outputs": [
        {
          "output_type": "execute_result",
          "data": {
            "text/plain": [
              "\"it didn't work before with the quote\""
            ]
          },
          "metadata": {
            "tags": []
          },
          "execution_count": 20
        }
      ]
    },
    {
      "cell_type": "markdown",
      "metadata": {
        "id": "-rUryKtdmXz5"
      },
      "source": [
        "    you can also use double quotes"
      ]
    },
    {
      "cell_type": "code",
      "metadata": {
        "id": "6-MqUBvRmXz5",
        "outputId": "e1b6f858-bb0a-4ded-b0e9-4ac211641ff5"
      },
      "source": [
        "\"it didn't work before with the single quote\""
      ],
      "execution_count": null,
      "outputs": [
        {
          "output_type": "execute_result",
          "data": {
            "text/plain": [
              "\"it didn't work before with the single quote\""
            ]
          },
          "metadata": {
            "tags": []
          },
          "execution_count": 21
        }
      ]
    },
    {
      "cell_type": "code",
      "metadata": {
        "id": "UIfq2TdGmXz6",
        "outputId": "e3d02dea-e560-4639-9d86-2900f20dbf88"
      },
      "source": [
        "\"python can \" \"combine \" \"multiple\" \"strings\""
      ],
      "execution_count": null,
      "outputs": [
        {
          "output_type": "execute_result",
          "data": {
            "text/plain": [
              "'python can combine multiplestrings'"
            ]
          },
          "metadata": {
            "tags": []
          },
          "execution_count": 22
        }
      ]
    },
    {
      "cell_type": "markdown",
      "metadata": {
        "id": "ic5QulVEmXz6"
      },
      "source": [
        "    This feature is particularly useful when you want to break long strings:"
      ]
    },
    {
      "cell_type": "code",
      "metadata": {
        "id": "S_Yfg5KNmXz7",
        "outputId": "da8eefcf-759c-43ac-f808-a91c75da38bd"
      },
      "source": [
        "text = ('Put several strings within parentheses '\n",
        "        'to have them joined together.')\n",
        "text"
      ],
      "execution_count": null,
      "outputs": [
        {
          "output_type": "execute_result",
          "data": {
            "text/plain": [
              "'Put several strings within parentheses to have them joined together.'"
            ]
          },
          "metadata": {
            "tags": []
          },
          "execution_count": 23
        }
      ]
    },
    {
      "cell_type": "markdown",
      "metadata": {
        "id": "Dyf3aL1KmXz7"
      },
      "source": [
        "    The print() function produces a more readable output, by omitting the enclosing quotes and by printing escaped and special characters. for example \\n to create a new line."
      ]
    },
    {
      "cell_type": "code",
      "metadata": {
        "scrolled": true,
        "id": "ajjjFBNvmXz7",
        "outputId": "7c8b72e1-8c91-4629-be70-cf2322a7f964"
      },
      "source": [
        "'First line.\\nSecond line.'"
      ],
      "execution_count": null,
      "outputs": [
        {
          "output_type": "execute_result",
          "data": {
            "text/plain": [
              "'First line.\\nSecond line.'"
            ]
          },
          "metadata": {
            "tags": []
          },
          "execution_count": 24
        }
      ]
    },
    {
      "cell_type": "code",
      "metadata": {
        "id": "YrmI2S--mXz8",
        "outputId": "6093526f-b730-413e-ee42-48b4d69f072e"
      },
      "source": [
        "print('First line.\\nSecond line.')"
      ],
      "execution_count": null,
      "outputs": [
        {
          "output_type": "stream",
          "text": [
            "First line.\n",
            "Second line.\n"
          ],
          "name": "stdout"
        }
      ]
    },
    {
      "cell_type": "markdown",
      "metadata": {
        "id": "Q7q8xas7mXz8"
      },
      "source": [
        "    String literals can span multiple lines. Another way is using triple-quotes: \"\"\"...\"\"\""
      ]
    },
    {
      "cell_type": "code",
      "metadata": {
        "id": "xeLLoOyHmXz9",
        "outputId": "d779e33f-bbed-4f74-bb73-894895820b96"
      },
      "source": [
        "print(\"\"\"\n",
        "Usage: example [OPTIONS]\n",
        "       -h Display this usage message\n",
        "       -H hostname Hostname to connect to\n",
        "\"\"\")"
      ],
      "execution_count": null,
      "outputs": [
        {
          "output_type": "stream",
          "text": [
            "\n",
            "Usage: example [OPTIONS]\n",
            "       -h Display this usage message\n",
            "       -H hostname Hostname to connect to\n",
            "\n"
          ],
          "name": "stdout"
        }
      ]
    },
    {
      "cell_type": "markdown",
      "metadata": {
        "id": "_ujzwU-RmXz-"
      },
      "source": [
        "    you can use raw strings by adding an r before the first quote"
      ]
    },
    {
      "cell_type": "code",
      "metadata": {
        "scrolled": true,
        "id": "_JUbK42imXz-",
        "outputId": "6dfbe74f-dd94-4e32-c54f-2ef47de10f4f"
      },
      "source": [
        "print(r'First line.\\nSecond line.')"
      ],
      "execution_count": null,
      "outputs": [
        {
          "output_type": "stream",
          "text": [
            "First line.\\nSecond line.\n"
          ],
          "name": "stdout"
        }
      ]
    },
    {
      "cell_type": "markdown",
      "metadata": {
        "id": "V5ZMipyOmXz_"
      },
      "source": [
        "    Integers can be combined with strings to display multiple characters"
      ]
    },
    {
      "cell_type": "code",
      "metadata": {
        "id": "d0OJ2CzbmX0A",
        "outputId": "732c714b-9e8d-4f8e-d2ce-cc366298bf31"
      },
      "source": [
        "print(\"python is fu\" + 5*\"n\" + \"!\")"
      ],
      "execution_count": null,
      "outputs": [
        {
          "output_type": "stream",
          "text": [
            "python is funnnnn!\n"
          ],
          "name": "stdout"
        }
      ]
    },
    {
      "cell_type": "markdown",
      "metadata": {
        "id": "vwl-tlkamX0A"
      },
      "source": [
        "##### Indexing\n",
        "Strings can be indexed (subscripted), with the first character having index 0."
      ]
    },
    {
      "cell_type": "code",
      "metadata": {
        "id": "T25KKFGSmX0B",
        "outputId": "fc6a0711-6812-49ba-a8c7-e3b6acaf7712"
      },
      "source": [
        "word = 'Python'\n",
        "print(word[0]) # character in position 0"
      ],
      "execution_count": null,
      "outputs": [
        {
          "output_type": "stream",
          "text": [
            "P\n"
          ],
          "name": "stdout"
        }
      ]
    },
    {
      "cell_type": "code",
      "metadata": {
        "id": "n2Md4o1vmX0C",
        "outputId": "d27984e0-29ba-436e-ab1d-ebb94d1a719e"
      },
      "source": [
        "print(word[5]) # character in position 5"
      ],
      "execution_count": null,
      "outputs": [
        {
          "output_type": "stream",
          "text": [
            "n\n"
          ],
          "name": "stdout"
        }
      ]
    },
    {
      "cell_type": "markdown",
      "metadata": {
        "id": "lMYotTYVmX0C"
      },
      "source": [
        "    Indices may also be negative numbers, to start counting from the right:"
      ]
    },
    {
      "cell_type": "code",
      "metadata": {
        "id": "aiGfZ524mX0D",
        "outputId": "428228fc-fbf9-479d-fdf9-a9040639a635"
      },
      "source": [
        "word[-1] # last character"
      ],
      "execution_count": null,
      "outputs": [
        {
          "output_type": "execute_result",
          "data": {
            "text/plain": [
              "'n'"
            ]
          },
          "metadata": {
            "tags": []
          },
          "execution_count": 31
        }
      ]
    },
    {
      "cell_type": "code",
      "metadata": {
        "id": "vebRiyMimX0D",
        "outputId": "82c0ca8b-e129-4780-864e-5a8e02226bed"
      },
      "source": [
        "word[-2] # second-last character"
      ],
      "execution_count": null,
      "outputs": [
        {
          "output_type": "execute_result",
          "data": {
            "text/plain": [
              "'o'"
            ]
          },
          "metadata": {
            "tags": []
          },
          "execution_count": 32
        }
      ]
    },
    {
      "cell_type": "code",
      "metadata": {
        "id": "IqM42NSMmX0D",
        "outputId": "def98b56-d8b1-4761-f6ec-5963d68fa4c3"
      },
      "source": [
        "word[-6]"
      ],
      "execution_count": null,
      "outputs": [
        {
          "output_type": "execute_result",
          "data": {
            "text/plain": [
              "'P'"
            ]
          },
          "metadata": {
            "tags": []
          },
          "execution_count": 33
        }
      ]
    },
    {
      "cell_type": "markdown",
      "metadata": {
        "id": "NN47ZnrgmX0E"
      },
      "source": [
        "    In addition to indexing, slicing is also supported. While indexing is used to obtain individual characters, slicing allows you to obtain substring"
      ]
    },
    {
      "cell_type": "code",
      "metadata": {
        "id": "kIgPN6MVmX0F",
        "outputId": "be00ac06-6c0f-486c-95c4-65c683d9a7d8"
      },
      "source": [
        "word[0:2] # characters from position 0 (included) to 2 (excluded)"
      ],
      "execution_count": null,
      "outputs": [
        {
          "output_type": "execute_result",
          "data": {
            "text/plain": [
              "'Py'"
            ]
          },
          "metadata": {
            "tags": []
          },
          "execution_count": 34
        }
      ]
    },
    {
      "cell_type": "code",
      "metadata": {
        "id": "gZwgz8Z3mX0G",
        "outputId": "569280a6-df67-4041-f71a-5a66bd45ed3a"
      },
      "source": [
        "word[2:5] # characters from position 2 (included) to 5 (excluded)"
      ],
      "execution_count": null,
      "outputs": [
        {
          "output_type": "execute_result",
          "data": {
            "text/plain": [
              "'tho'"
            ]
          },
          "metadata": {
            "tags": []
          },
          "execution_count": 35
        }
      ]
    },
    {
      "cell_type": "markdown",
      "metadata": {
        "id": "FBbuOebVmX0G"
      },
      "source": [
        "    Slice indices have useful defaults; an omitted first index defaults to zero, an omitted second index defaults to the size of the string being sliced."
      ]
    },
    {
      "cell_type": "code",
      "metadata": {
        "id": "R_0OpQSMmX0H",
        "outputId": "e88adbe3-eb57-4294-8a5d-579c8c07eed5"
      },
      "source": [
        "word[:2] # character from the beginning to position 2 (excluded)"
      ],
      "execution_count": null,
      "outputs": [
        {
          "output_type": "execute_result",
          "data": {
            "text/plain": [
              "'Py'"
            ]
          },
          "metadata": {
            "tags": []
          },
          "execution_count": 36
        }
      ]
    },
    {
      "cell_type": "code",
      "metadata": {
        "id": "wnwyFf7bmX0H",
        "outputId": "f8706476-6d63-4916-b460-6210fd02c090"
      },
      "source": [
        "word[4:] # characters from position 4 (included) to the end"
      ],
      "execution_count": null,
      "outputs": [
        {
          "output_type": "execute_result",
          "data": {
            "text/plain": [
              "'on'"
            ]
          },
          "metadata": {
            "tags": []
          },
          "execution_count": 37
        }
      ]
    },
    {
      "cell_type": "code",
      "metadata": {
        "id": "W3v7QfHPmX0I",
        "outputId": "782b4db5-42d6-44bb-988c-e4af0e5d0e0b"
      },
      "source": [
        "word[-2:] # characters from the second-last (included) to the end"
      ],
      "execution_count": null,
      "outputs": [
        {
          "output_type": "execute_result",
          "data": {
            "text/plain": [
              "'on'"
            ]
          },
          "metadata": {
            "tags": []
          },
          "execution_count": 38
        }
      ]
    },
    {
      "cell_type": "markdown",
      "metadata": {
        "id": "DJbHNBMYmX0J"
      },
      "source": [
        "    Attempting to use an index that is too large will result in an error:"
      ]
    },
    {
      "cell_type": "code",
      "metadata": {
        "id": "CGkqTiMZmX0J",
        "outputId": "69599f65-5d4d-480a-d225-d785a716389e"
      },
      "source": [
        "word[42] # the word only has 6 characters"
      ],
      "execution_count": null,
      "outputs": [
        {
          "output_type": "error",
          "ename": "IndexError",
          "evalue": "string index out of range",
          "traceback": [
            "\u001b[1;31m---------------------------------------------------------------------------\u001b[0m",
            "\u001b[1;31mIndexError\u001b[0m                                Traceback (most recent call last)",
            "\u001b[1;32m<ipython-input-39-7c9daa973870>\u001b[0m in \u001b[0;36m<module>\u001b[1;34m\u001b[0m\n\u001b[1;32m----> 1\u001b[1;33m \u001b[0mword\u001b[0m\u001b[1;33m[\u001b[0m\u001b[1;36m42\u001b[0m\u001b[1;33m]\u001b[0m \u001b[1;31m# the word only has 6 characters\u001b[0m\u001b[1;33m\u001b[0m\u001b[1;33m\u001b[0m\u001b[0m\n\u001b[0m",
            "\u001b[1;31mIndexError\u001b[0m: string index out of range"
          ]
        }
      ]
    },
    {
      "cell_type": "markdown",
      "metadata": {
        "id": "8gl-SU5vmX0K"
      },
      "source": [
        "    However, out of range slice indexes are handled gracefully when used for slicing:"
      ]
    },
    {
      "cell_type": "code",
      "metadata": {
        "id": "vxgOrmnOmX0K",
        "outputId": "04298ddd-c8eb-4e26-a3ba-2774f9e52f36"
      },
      "source": [
        "word[4:42]"
      ],
      "execution_count": null,
      "outputs": [
        {
          "output_type": "execute_result",
          "data": {
            "text/plain": [
              "'on'"
            ]
          },
          "metadata": {
            "tags": []
          },
          "execution_count": 40
        }
      ]
    },
    {
      "cell_type": "code",
      "metadata": {
        "id": "th5It5P5mX0L",
        "outputId": "63e65c72-9da8-4217-fb92-faee944b392a"
      },
      "source": [
        "word[42:]"
      ],
      "execution_count": null,
      "outputs": [
        {
          "output_type": "execute_result",
          "data": {
            "text/plain": [
              "''"
            ]
          },
          "metadata": {
            "tags": []
          },
          "execution_count": 41
        }
      ]
    },
    {
      "cell_type": "markdown",
      "metadata": {
        "id": "Zb6BYWcEmX0M"
      },
      "source": [
        "    Python strings cannot be changed — they are immutable. Therefore, assigning to an indexed position in the string results in an error:"
      ]
    },
    {
      "cell_type": "code",
      "metadata": {
        "id": "KNIusOJbmX0M",
        "outputId": "6b715acb-281c-4460-cd80-945a2ac9318f"
      },
      "source": [
        "word[0] = 'J'"
      ],
      "execution_count": null,
      "outputs": [
        {
          "output_type": "error",
          "ename": "TypeError",
          "evalue": "'str' object does not support item assignment",
          "traceback": [
            "\u001b[1;31m---------------------------------------------------------------------------\u001b[0m",
            "\u001b[1;31mTypeError\u001b[0m                                 Traceback (most recent call last)",
            "\u001b[1;32m<ipython-input-42-91a956888ca7>\u001b[0m in \u001b[0;36m<module>\u001b[1;34m\u001b[0m\n\u001b[1;32m----> 1\u001b[1;33m \u001b[0mword\u001b[0m\u001b[1;33m[\u001b[0m\u001b[1;36m0\u001b[0m\u001b[1;33m]\u001b[0m \u001b[1;33m=\u001b[0m \u001b[1;34m'J'\u001b[0m\u001b[1;33m\u001b[0m\u001b[1;33m\u001b[0m\u001b[0m\n\u001b[0m",
            "\u001b[1;31mTypeError\u001b[0m: 'str' object does not support item assignment"
          ]
        }
      ]
    },
    {
      "cell_type": "markdown",
      "metadata": {
        "id": "a45v069pmX0N"
      },
      "source": [
        "    If you need a different string, you should create a new one:"
      ]
    },
    {
      "cell_type": "code",
      "metadata": {
        "id": "uifVd6YtmX0O",
        "outputId": "99c9e0d0-b4d9-47bd-ea1c-9d7ab8eef4cc"
      },
      "source": [
        "'i' + 'P' + word[1:]"
      ],
      "execution_count": null,
      "outputs": [
        {
          "output_type": "execute_result",
          "data": {
            "text/plain": [
              "'iPython'"
            ]
          },
          "metadata": {
            "tags": []
          },
          "execution_count": 43
        }
      ]
    },
    {
      "cell_type": "markdown",
      "metadata": {
        "id": "ufv_gHndmX0O"
      },
      "source": [
        "#### List\n",
        "\n",
        "Lists can be written as a list of comma-separated values (items) between square brackets. Lists might contain items of different types, but usually the items all have the same type."
      ]
    },
    {
      "cell_type": "code",
      "metadata": {
        "id": "Ou0HwqKwmX0P",
        "outputId": "1dc7d112-f1cc-4e25-a564-4b4de37ccda0"
      },
      "source": [
        "squares = [1, 4, 9, 16, 25]\n",
        "squares"
      ],
      "execution_count": null,
      "outputs": [
        {
          "output_type": "execute_result",
          "data": {
            "text/plain": [
              "[1, 4, 9, 16, 25]"
            ]
          },
          "metadata": {
            "tags": []
          },
          "execution_count": 44
        }
      ]
    },
    {
      "cell_type": "markdown",
      "metadata": {
        "id": "45t3smuXmX0P"
      },
      "source": [
        "    Like strings (and all other built-in sequence types), lists can be indexed and sliced:"
      ]
    },
    {
      "cell_type": "code",
      "metadata": {
        "id": "yClOiFfjmX0P",
        "outputId": "21fd9c98-9ca7-402a-bc56-03a787f21f44"
      },
      "source": [
        "squares[0] # indexing returns the item"
      ],
      "execution_count": null,
      "outputs": [
        {
          "output_type": "execute_result",
          "data": {
            "text/plain": [
              "1"
            ]
          },
          "metadata": {
            "tags": []
          },
          "execution_count": 45
        }
      ]
    },
    {
      "cell_type": "code",
      "metadata": {
        "id": "K2AITc2bmX0Q",
        "outputId": "d96b70bc-189e-4e43-8edd-b951a37519a6"
      },
      "source": [
        "squares[-3:] # slicing returns a new list"
      ],
      "execution_count": null,
      "outputs": [
        {
          "output_type": "execute_result",
          "data": {
            "text/plain": [
              "[9, 16, 25]"
            ]
          },
          "metadata": {
            "tags": []
          },
          "execution_count": 46
        }
      ]
    },
    {
      "cell_type": "markdown",
      "metadata": {
        "id": "saAfI81emX0Q"
      },
      "source": [
        "    Strings and numbers can be mixed"
      ]
    },
    {
      "cell_type": "code",
      "metadata": {
        "id": "a0vA4coomX0R",
        "outputId": "a038870d-832a-4fdc-fb84-16cc57ee1041"
      },
      "source": [
        "mixed = [\"sometext\", 1.234, 1, True, False]\n",
        "\n",
        "print(mixed)"
      ],
      "execution_count": null,
      "outputs": [
        {
          "output_type": "stream",
          "text": [
            "['sometext', 1.234, 1, True, False]\n"
          ],
          "name": "stdout"
        }
      ]
    },
    {
      "cell_type": "markdown",
      "metadata": {
        "id": "IKAHdVFmmX0S"
      },
      "source": [
        "    Unlike strings, which are immutable, lists are a mutable type, i.e. it is possible to change their content:"
      ]
    },
    {
      "cell_type": "code",
      "metadata": {
        "id": "OpinjKFAmX0T",
        "outputId": "d314353e-ef05-4d3b-ddda-2539a6bced84"
      },
      "source": [
        "cubes = [1, 8, 27, 65, 125] # something's wrong here\n",
        "cubes"
      ],
      "execution_count": null,
      "outputs": [
        {
          "output_type": "execute_result",
          "data": {
            "text/plain": [
              "[1, 8, 27, 65, 125]"
            ]
          },
          "metadata": {
            "tags": []
          },
          "execution_count": 48
        }
      ]
    },
    {
      "cell_type": "code",
      "metadata": {
        "id": "ISIxEDQMmX0T",
        "outputId": "e930737d-12c8-4309-a5b6-dc5dc99b6002"
      },
      "source": [
        "4 ** 3 # the cube of 4 is 64, not 65!"
      ],
      "execution_count": null,
      "outputs": [
        {
          "output_type": "execute_result",
          "data": {
            "text/plain": [
              "64"
            ]
          },
          "metadata": {
            "tags": []
          },
          "execution_count": 49
        }
      ]
    },
    {
      "cell_type": "code",
      "metadata": {
        "id": "hO0ktcpjmX0U",
        "outputId": "0df56858-bef7-4c33-afda-745795350423"
      },
      "source": [
        "cubes[3] = 64 # replace the wrong value\n",
        "cubes"
      ],
      "execution_count": null,
      "outputs": [
        {
          "output_type": "execute_result",
          "data": {
            "text/plain": [
              "[1, 8, 27, 64, 125]"
            ]
          },
          "metadata": {
            "tags": []
          },
          "execution_count": 50
        }
      ]
    },
    {
      "cell_type": "markdown",
      "metadata": {
        "id": "V3_ZuJlJmX0U"
      },
      "source": [
        "    You can also add new items at the end of the list, by using the append() method"
      ]
    },
    {
      "cell_type": "code",
      "metadata": {
        "id": "8PNQpkzUmX0V",
        "outputId": "c148c766-eec7-4a33-950e-456cce6e12fc"
      },
      "source": [
        "cubes.append(7 ** 3)\n",
        "cubes"
      ],
      "execution_count": null,
      "outputs": [
        {
          "output_type": "execute_result",
          "data": {
            "text/plain": [
              "[1, 8, 27, 64, 125, 343]"
            ]
          },
          "metadata": {
            "tags": []
          },
          "execution_count": 51
        }
      ]
    },
    {
      "cell_type": "markdown",
      "metadata": {
        "id": "J23a2R3_mX0V"
      },
      "source": [
        "It is possible to nest lists"
      ]
    },
    {
      "cell_type": "code",
      "metadata": {
        "id": "tnlnla0GmX0W",
        "outputId": "c0c27a56-1d07-4756-e96c-fd60168c7d0b"
      },
      "source": [
        "a = ['a', 'b', 'c']\n",
        "n = [1, 2, 3]\n",
        "x = [a, n]\n",
        "x"
      ],
      "execution_count": null,
      "outputs": [
        {
          "output_type": "execute_result",
          "data": {
            "text/plain": [
              "[['a', 'b', 'c'], [1, 2, 3]]"
            ]
          },
          "metadata": {
            "tags": []
          },
          "execution_count": 52
        }
      ]
    },
    {
      "cell_type": "markdown",
      "metadata": {
        "id": "J_gltRqSmX0W"
      },
      "source": [
        "#### Tuples\n",
        "\n",
        "Tuples Like a list but immutable. It makes your code safer in protecting data that does not need to be changed. This also means that tuples are very efficient with regard to memory consumption and runtime. "
      ]
    },
    {
      "cell_type": "code",
      "metadata": {
        "id": "DisagBtQmX0W",
        "outputId": "f94bb436-09e9-481d-e8a2-0bce930c33f4"
      },
      "source": [
        "atuple = (123, \"hello world\")\n",
        "\n",
        "print (atuple[0])"
      ],
      "execution_count": null,
      "outputs": [
        {
          "output_type": "stream",
          "text": [
            "123\n"
          ],
          "name": "stdout"
        }
      ]
    },
    {
      "cell_type": "code",
      "metadata": {
        "id": "jSik05XTmX0Y",
        "outputId": "98e57086-344b-4ecc-fd54-849732ff8d0f"
      },
      "source": [
        "atuple[0] = 321 # Tuples are immutable"
      ],
      "execution_count": null,
      "outputs": [
        {
          "output_type": "error",
          "ename": "TypeError",
          "evalue": "'tuple' object does not support item assignment",
          "traceback": [
            "\u001b[1;31m---------------------------------------------------------------------------\u001b[0m",
            "\u001b[1;31mTypeError\u001b[0m                                 Traceback (most recent call last)",
            "\u001b[1;32m<ipython-input-54-8593ef68a949>\u001b[0m in \u001b[0;36m<module>\u001b[1;34m\u001b[0m\n\u001b[1;32m----> 1\u001b[1;33m \u001b[0matuple\u001b[0m\u001b[1;33m[\u001b[0m\u001b[1;36m0\u001b[0m\u001b[1;33m]\u001b[0m \u001b[1;33m=\u001b[0m \u001b[1;36m321\u001b[0m \u001b[1;31m# Tuples are immutable\u001b[0m\u001b[1;33m\u001b[0m\u001b[1;33m\u001b[0m\u001b[0m\n\u001b[0m",
            "\u001b[1;31mTypeError\u001b[0m: 'tuple' object does not support item assignment"
          ]
        }
      ]
    },
    {
      "cell_type": "markdown",
      "metadata": {
        "id": "V3cnNqt7mX0Y"
      },
      "source": [
        "#### Set\n",
        "\n",
        "Like a mathematical set - can be used to filter out duplicates in lists and check for membership.\n"
      ]
    },
    {
      "cell_type": "code",
      "metadata": {
        "id": "UdFmULc1mX0Z",
        "outputId": "23db502d-0f3c-4338-d507-9a752265ab94"
      },
      "source": [
        "spamlist = [\"spam\",\"spam\",\"spam\",\"spam\",\"eggs\",\"eggs\",\"bacon\", \"spam\"]\n",
        "setA = set(spamlist)\n",
        "print(\"list:\", spamlist)\n",
        "print(\"set:\", setA)"
      ],
      "execution_count": null,
      "outputs": [
        {
          "output_type": "stream",
          "text": [
            "list: ['spam', 'spam', 'spam', 'spam', 'eggs', 'eggs', 'bacon', 'spam']\n",
            "set: {'eggs', 'bacon', 'spam'}\n"
          ],
          "name": "stdout"
        }
      ]
    },
    {
      "cell_type": "code",
      "metadata": {
        "id": "H7n96eq7mX0Z",
        "outputId": "cc69a39c-751b-4b08-842a-7528ab7f7865"
      },
      "source": [
        "setB = {'spaghetti', 'eggs', 'sausages', 'prosecco'}\n",
        "\n",
        "print(\"\\nSet operations: \")\n",
        "print(\"- Intersection A,B\",setA.intersection(setB)) #should print 'eggs' which is in both sets\n",
        "print(\"- Union A,B\",       setA.union(setB))        #should print all items in both sets\n",
        "print(\"- Difference A,B\",  setB.difference(setA))   "
      ],
      "execution_count": null,
      "outputs": [
        {
          "output_type": "stream",
          "text": [
            "\n",
            "Set operations: \n",
            "- Intersection A,B {'eggs'}\n",
            "- Union A,B {'eggs', 'spaghetti', 'sausages', 'bacon', 'spam', 'prosecco'}\n",
            "- Difference A,B {'spaghetti', 'sausages', 'prosecco'}\n"
          ],
          "name": "stdout"
        }
      ]
    },
    {
      "cell_type": "markdown",
      "metadata": {
        "id": "AFos5eo8mX0a"
      },
      "source": [
        "#### Dictionary or dict\n",
        "\n",
        "dicts are essentially like a HashMap in Java - a mutable set of key -> value pairs maintained in memory. Python allows you to access the items using the indexing syntax described above for lists."
      ]
    },
    {
      "cell_type": "code",
      "metadata": {
        "id": "7zU3H23YmX0a",
        "outputId": "839c4ddd-b170-4093-8fc0-f91e2ce063cf"
      },
      "source": [
        "mydict = {\"spam\" : \"eggs\", \"bacon\" : \"sausage\"}\n",
        "\n",
        "print(mydict['spam'])"
      ],
      "execution_count": null,
      "outputs": [
        {
          "output_type": "stream",
          "text": [
            "eggs\n"
          ],
          "name": "stdout"
        }
      ]
    },
    {
      "cell_type": "code",
      "metadata": {
        "id": "Fb0BVrQ7mX0a",
        "outputId": "2abd4bf8-9a20-46a8-ba0f-5323f9d3e3e8"
      },
      "source": [
        "mydict['bacon'] = \"fried bread\"\n",
        "\n",
        "print(mydict)"
      ],
      "execution_count": null,
      "outputs": [
        {
          "output_type": "stream",
          "text": [
            "{'spam': 'eggs', 'bacon': 'fried bread'}\n"
          ],
          "name": "stdout"
        }
      ]
    },
    {
      "cell_type": "markdown",
      "metadata": {
        "id": "p1BdBH5KmX0b"
      },
      "source": [
        "    It is possible to get a list of keys or a list of values or even a list of tuples describing keys and values."
      ]
    },
    {
      "cell_type": "code",
      "metadata": {
        "id": "JEM7a0H4mX0c",
        "outputId": "d0819a54-d1a1-4a14-c13a-9dd8af431a1a"
      },
      "source": [
        "print(\"keys:\",    mydict.keys())\n",
        "print(\"values:\",  mydict.values())\n",
        "print(\"entries:\", mydict.items())"
      ],
      "execution_count": null,
      "outputs": [
        {
          "output_type": "stream",
          "text": [
            "keys: dict_keys(['spam', 'bacon'])\n",
            "values: dict_values(['eggs', 'fried bread'])\n",
            "entries: dict_items([('spam', 'eggs'), ('bacon', 'fried bread')])\n"
          ],
          "name": "stdout"
        }
      ]
    },
    {
      "cell_type": "markdown",
      "metadata": {
        "id": "qzDDJU_UmX0c"
      },
      "source": [
        "---------------------------------\n",
        "\n",
        "## Loops and iteration\n",
        "\n",
        "for loops in Python are one of the most powerful features of the language - especially when combined with some of the more advanced concepts as described below.\n",
        "\n",
        "A basic for loop looks like this:"
      ]
    },
    {
      "cell_type": "markdown",
      "metadata": {
        "id": "4zs8kQuBmX0d"
      },
      "source": [
        "### _For_ loop"
      ]
    },
    {
      "cell_type": "code",
      "metadata": {
        "id": "lgkTI28UmX0d",
        "outputId": "f513fa52-526c-4882-b777-a33b3b0ebb8c"
      },
      "source": [
        "iterable = [1,2,3,4,5]\n",
        "\n",
        "for item in iterable:\n",
        "    print(item)"
      ],
      "execution_count": null,
      "outputs": [
        {
          "output_type": "stream",
          "text": [
            "1\n",
            "2\n",
            "3\n",
            "4\n",
            "5\n"
          ],
          "name": "stdout"
        }
      ]
    },
    {
      "cell_type": "markdown",
      "metadata": {
        "id": "TNEU8SYqmX0e"
      },
      "source": [
        "    You can expand lists of tuples using for loops so that each part of the tuple is accessible. \n",
        " Remember how I said we could iterate over keys ***and*** values in a dict earlier?"
      ]
    },
    {
      "cell_type": "code",
      "metadata": {
        "id": "ynMlcpyFmX0f",
        "outputId": "935ca8d5-6930-4b52-c89f-5b7b2bf32ee2"
      },
      "source": [
        "print(mydict) # My dictionary\n",
        "\n",
        "for key,value in mydict.items():\n",
        "    print(\"key=\",key,\", value=\",value)"
      ],
      "execution_count": null,
      "outputs": [
        {
          "output_type": "stream",
          "text": [
            "{'spam': 'eggs', 'bacon': 'fried bread'}\n",
            "key= spam , value= eggs\n",
            "key= bacon , value= fried bread\n"
          ],
          "name": "stdout"
        }
      ]
    },
    {
      "cell_type": "markdown",
      "metadata": {
        "id": "mDJbA0JQmX0f"
      },
      "source": [
        "    We can also keep count of how many times we've been around the loop using the Python *enumerate* function."
      ]
    },
    {
      "cell_type": "code",
      "metadata": {
        "id": "uz3lppz4mX0g",
        "outputId": "5ea2f01b-e5f4-4b22-89c4-2c7b201d4c2c"
      },
      "source": [
        "items = [\"spam\",\"eggs\",\"sausages\",\"bacon\"]\n",
        "\n",
        "for i, item in enumerate(items):\n",
        "    print (\"This is item\", i)\n",
        "    print(\"Item:\",item)\n",
        "    if i <1:\n",
        "        print (\"This is the first time around the loop\")"
      ],
      "execution_count": null,
      "outputs": [
        {
          "output_type": "stream",
          "text": [
            "This is item 0\n",
            "Item: spam\n",
            "This is the first time around the loop\n",
            "This is item 1\n",
            "Item: eggs\n",
            "This is item 2\n",
            "Item: sausages\n",
            "This is item 3\n",
            "Item: bacon\n"
          ],
          "name": "stdout"
        }
      ]
    },
    {
      "cell_type": "markdown",
      "metadata": {
        "id": "yuKdDaovmX0h"
      },
      "source": [
        "    If you do need to iterate over a sequence of numbers, the built-in function range() comes in handy. It generates arithmetic progressions:"
      ]
    },
    {
      "cell_type": "code",
      "metadata": {
        "id": "Kxp_hjB2mX0i",
        "outputId": "a08f4c8a-c875-4f9b-bc07-b987addbc0a9"
      },
      "source": [
        "for i in range(5):\n",
        "    print(i)"
      ],
      "execution_count": null,
      "outputs": [
        {
          "output_type": "stream",
          "text": [
            "0\n",
            "1\n",
            "2\n",
            "3\n",
            "4\n"
          ],
          "name": "stdout"
        }
      ]
    },
    {
      "cell_type": "markdown",
      "metadata": {
        "id": "oYDxa4JdmX0j"
      },
      "source": [
        "### _While_ Loop\n",
        "The while loop executes as long as the condition (here: a < 10) remains true."
      ]
    },
    {
      "cell_type": "code",
      "metadata": {
        "id": "NdjQ4IsNmX0j",
        "outputId": "37d23f5d-edca-4ac4-eb92-ea5f6aaf9150"
      },
      "source": [
        "# Fibonacci series:\n",
        "# the sum of two elements defines the next\n",
        "a, b = 0, 1\n",
        "while a < 10:\n",
        "    print(a)\n",
        "    a, b = b, a+b"
      ],
      "execution_count": null,
      "outputs": [
        {
          "output_type": "stream",
          "text": [
            "0\n",
            "1\n",
            "1\n",
            "2\n",
            "3\n",
            "5\n",
            "8\n"
          ],
          "name": "stdout"
        }
      ]
    },
    {
      "cell_type": "markdown",
      "metadata": {
        "id": "ghQpan7smX0k"
      },
      "source": [
        "## _if_ statement"
      ]
    },
    {
      "cell_type": "code",
      "metadata": {
        "id": "gwW7-EtxmX0k",
        "outputId": "3d06cfa7-ddf6-40ca-a12a-83fd95c848e0"
      },
      "source": [
        "x = int(input(\"Please enter an integer: \"))\n",
        "\n",
        "if x < 0:\n",
        "    x = 0\n",
        "    print('Negative changed to zero')\n",
        "elif x == 0:\n",
        "    print('Zero')\n",
        "elif x == 1:\n",
        "    print('Single')\n",
        "else:\n",
        "    print('More')"
      ],
      "execution_count": null,
      "outputs": [
        {
          "output_type": "stream",
          "text": [
            "Please enter an integer: 42\n",
            "More\n"
          ],
          "name": "stdout"
        }
      ]
    },
    {
      "cell_type": "markdown",
      "metadata": {
        "id": "rnr7jvmHmX0l"
      },
      "source": [
        "---------------------------------------\n",
        "\n",
        "## Functions\n",
        "\n",
        "Function definitions in Python are very simple."
      ]
    },
    {
      "cell_type": "code",
      "metadata": {
        "id": "ir1NIaRxmX0r"
      },
      "source": [
        "def square(x):\n",
        "    y = x * x\n",
        "    return y"
      ],
      "execution_count": null,
      "outputs": []
    },
    {
      "cell_type": "code",
      "metadata": {
        "id": "fXDwbK6kmX0s",
        "outputId": "73b49575-76d3-4f37-da47-26c48052b9e8"
      },
      "source": [
        "#what is the square of 2? should print 4\n",
        "print(\"2 x 2 = \", square(2))"
      ],
      "execution_count": null,
      "outputs": [
        {
          "output_type": "stream",
          "text": [
            "2 x 2 =  4\n"
          ],
          "name": "stdout"
        }
      ]
    },
    {
      "cell_type": "markdown",
      "metadata": {
        "id": "F9tpQ--lmX0s"
      },
      "source": [
        "    Functions can have many parameters and default values can be specified too"
      ]
    },
    {
      "cell_type": "code",
      "metadata": {
        "id": "5W-tgIydmX0t",
        "outputId": "db08477c-d97e-4d09-ea4e-67581b4dce3e"
      },
      "source": [
        "def square(x=0):\n",
        "    y = x * x\n",
        "    return y\n",
        "\n",
        "def cube(x=0):\n",
        "    return x * x * x\n",
        "\n",
        "def domaths(number, operation):\n",
        "    return operation(number)\n",
        "\n",
        "print(\"Square default behavior: \", square())\n"
      ],
      "execution_count": null,
      "outputs": [
        {
          "output_type": "stream",
          "text": [
            "Square default behavior:  0\n"
          ],
          "name": "stdout"
        }
      ]
    },
    {
      "cell_type": "code",
      "metadata": {
        "id": "JSvrZhMImX0u",
        "outputId": "1341b605-fcaf-4b52-b8e2-5315dcb746a9"
      },
      "source": [
        "print(\"Square function is now the argument: \", domaths(2, square))"
      ],
      "execution_count": null,
      "outputs": [
        {
          "output_type": "stream",
          "text": [
            "Square function is now the argument:  4\n"
          ],
          "name": "stdout"
        }
      ]
    },
    {
      "cell_type": "code",
      "metadata": {
        "id": "u2QmrwS8mX0v",
        "outputId": "67b8ae26-7466-4ae8-84a6-325f0647b778"
      },
      "source": [
        "print(\"Now lets cube: \", domaths(2,cube))"
      ],
      "execution_count": null,
      "outputs": [
        {
          "output_type": "stream",
          "text": [
            "Now lets cube:  8\n"
          ],
          "name": "stdout"
        }
      ]
    },
    {
      "cell_type": "code",
      "metadata": {
        "id": "vND3-cD-mX0w",
        "outputId": "d2fcb63f-ba72-4424-b80b-7846edbc7bd6"
      },
      "source": [
        "# Fibonacci series function\n",
        "def fib(n): # write Fibonacci series up to n\n",
        "    \"\"\"Print a Fibonacci series up to n.\"\"\"\n",
        "    a, b = 0, 1\n",
        "    while a < n:\n",
        "        print(a, end=' ')\n",
        "        a, b = b, a+b\n",
        "\n",
        "\n",
        "fib(2000)"
      ],
      "execution_count": null,
      "outputs": [
        {
          "output_type": "stream",
          "text": [
            "0 1 1 2 3 5 8 13 21 34 55 89 144 233 377 610 987 1597 "
          ],
          "name": "stdout"
        }
      ]
    },
    {
      "cell_type": "markdown",
      "metadata": {
        "id": "2BaWO3iimX0w"
      },
      "source": [
        "## Conclusion\n",
        "\n",
        "That's the end of basic syntax.\n",
        "But before:\n",
        "<img src=\"https://raw.githubusercontent.com/shaneahmed/StatswithPython/main/data/embedded_images/eagleson_law.jpg\" width=\"600\">"
      ]
    },
    {
      "cell_type": "code",
      "metadata": {
        "id": "C_g95zSrmX0x"
      },
      "source": [
        ""
      ],
      "execution_count": null,
      "outputs": []
    }
  ]
}