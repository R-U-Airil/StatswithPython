{
 "cells": [
  {
   "cell_type": "markdown",
   "metadata": {},
   "source": [
    "# DA-STATS Introduction to Python\n",
    "\n",
    "<b> Gabriele Pergola (gabriele.pergola@warwick.ac.uk) </b> <br> \n",
    "Credits to James Ravenscroft.\n",
    "\n",
    "Python is simple to use, but it is a real programming language, offering much more structure and support for large programs\n",
    "than shell scripts or batch files can offer.\n",
    "If you do much work on computers, eventually you find that there’s some task you’d like to automate. Python can help you automate those tasks.\n",
    "\n",
    "It is a general purpose scripting language frequently used for data science and machine learning applications. It is open source and available on many different platforms (Windows, Mac OSX, Linux, Android and more)\n",
    "\n",
    "### Versions\n",
    "In [December 2019](https://pythonclock.org/) the Python foundation has stopped the support for the 2.X family. Therefore, we will be focussing on Python 3.X only.\n",
    "\n",
    "### Basic Syntax\n",
    "\n",
    " * Python 3 looks like many other modern programming languages such as C, Java, PHP and Perl. \n",
    " * There are no semi-colons at the end of lines\n",
    " \n",
    " <img src=\"python_picture.jpg\" width=\"250\" height=\"150\">"
   ]
  },
  {
   "cell_type": "code",
   "execution_count": null,
   "metadata": {},
   "outputs": [],
   "source": []
  }
 ],
 "metadata": {
  "kernelspec": {
   "display_name": "Python 3",
   "language": "python",
   "name": "python3"
  },
  "language_info": {
   "codemirror_mode": {
    "name": "ipython",
    "version": 3
   },
   "file_extension": ".py",
   "mimetype": "text/x-python",
   "name": "python",
   "nbconvert_exporter": "python",
   "pygments_lexer": "ipython3",
   "version": "3.7.7"
  }
 },
 "nbformat": 4,
 "nbformat_minor": 4
}
