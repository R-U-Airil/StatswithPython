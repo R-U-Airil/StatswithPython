{
  "nbformat": 4,
  "nbformat_minor": 0,
  "metadata": {
    "colab": {
      "name": "Untitled11.ipynb",
      "provenance": [],
      "authorship_tag": "ABX9TyNbXfT9NvXYInYZ3J2bY4fW",
      "include_colab_link": true
    },
    "kernelspec": {
      "name": "python3",
      "display_name": "Python 3"
    }
  },
  "cells": [
    {
      "cell_type": "markdown",
      "metadata": {
        "id": "view-in-github",
        "colab_type": "text"
      },
      "source": [
        "<a href=\"https://colab.research.google.com/github/shaneahmed/StatswithPython/blob/main/regression.ipynb\" target=\"_parent\"><img src=\"https://colab.research.google.com/assets/colab-badge.svg\" alt=\"Open In Colab\"/></a>"
      ]
    },
    {
      "cell_type": "markdown",
      "metadata": {
        "id": "VRIbruKhGuTE"
      },
      "source": [
        "# CS909 Regression Exercise\n",
        "(Fayyaz Minhas)\n",
        "\n",
        "---\n",
        "\n",
        "Your Name: (Your name goes here)\n",
        "\n",
        "---\n",
        "\n",
        "\n",
        "The objective of this exercise is to enable you to do regression with sklearn models. Please use the accompanying lecture slides for conceptural information. \n",
        "\n",
        "## Ordinary Least Squares Regression (OLS)\n",
        "\n",
        "Please try to understand the simple code for OLS given below and relate it to the concepts covere din the class.\n",
        "\n",
        "This is a simple implementation of OLS as covered in the class. Please try to understand what individual lines in the code are doing."
      ]
    },
    {
      "cell_type": "code",
      "metadata": {
        "id": "Cx2ZDXmv_QzO",
        "colab": {
          "base_uri": "https://localhost:8080/",
          "height": 591
        },
        "outputId": "ff9d8b1d-f2f2-441d-861e-3703b607e8e0"
      },
      "source": [
        "import numpy as np\n",
        "import matplotlib.pyplot as plt\n",
        "X0 = np.array([[1],[2]]) #independent variable values\n",
        "y =np.array([3.5,4.75]) # dependent variable (target) values\n",
        "X = np.hstack((X0,np.ones((X0.shape[0],1)))) #append 1 to each example\n",
        "w = np.linalg.pinv(X)@y #finding weights or parameters of the line\n",
        "f = X@w #computing predictions f = w^Tx\n",
        "e = f-y #computing error\n",
        "L = e@e #computing squared error and summing the squared error for all examples\n",
        "plt.figure();plt.plot(X0,f,'ro');plt.plot(X0,y,'bx');plt.grid();plt.xlabel('x');plt.ylabel('output');plt.legend(['Prediction','True']);plt.title('Data Plot')\n",
        "plt.figure();plt.plot(y,f,'o');plt.grid();plt.xlabel('True value');plt.ylabel('Predicted value');plt.title('Regression Scatter Plot')\n"
      ],
      "execution_count": null,
      "outputs": [
        {
          "output_type": "execute_result",
          "data": {
            "text/plain": [
              "Text(0.5, 1.0, 'Regression Scatter Plot')"
            ]
          },
          "metadata": {
            "tags": []
          },
          "execution_count": 12
        },
        {
          "output_type": "display_data",
          "data": {
            "image/png": "[encoded data removed]",
            "text/plain": [
              "<Figure size 432x288 with 1 Axes>"
            ]
          },
          "metadata": {
            "tags": []
          }
        },
        {
          "output_type": "display_data",
          "data": {
            "image/png": "[encoded data removed]",
            "text/plain": [
              "<Figure size 432x288 with 1 Axes>"
            ]
          },
          "metadata": {
            "tags": []
          }
        }
      ]
    },
    {
      "cell_type": "markdown",
      "metadata": {
        "id": "4ZTVm3kKKkDO"
      },
      "source": [
        "Please answer the following questions: (optional)\n",
        "0. Can you see a linear relationship between the input and output variables for the given data?\n",
        "1. What is the pseudo inverse? What is the pseudo inverse of the given Matrix?\n",
        "2. What does the model predict for an example with a feature value of 1.4?\n",
        "3. How do the model's predictions change when you add another example (say, 1.6) with a feature value (say, 4.6)?"
      ]
    },
    {
      "cell_type": "markdown",
      "metadata": {
        "id": "6Sko572nLG6i"
      },
      "source": [
        "### OLS using sklearn\n",
        "\n",
        "The code below uses sk-learn for OLS over the same data as above. Please try to understand the role of fit_intercept in the code below and answer the following questions:\n",
        "\n",
        "1. Are your weights from sklearn OLS the same as you got above?\n",
        "2. What is the role of fit_intercept? \n",
        "3. Generate a prediction for a new example using the trained model."
      ]
    },
    {
      "cell_type": "code",
      "metadata": {
        "id": "7TICxq1kLCnr"
      },
      "source": [
        ""
      ],
      "execution_count": null,
      "outputs": []
    },
    {
      "cell_type": "markdown",
      "metadata": {
        "id": "glYFwJf1KSXL"
      },
      "source": [
        ""
      ]
    },
    {
      "cell_type": "code",
      "metadata": {
        "id": "imIKESWe_esr",
        "colab": {
          "base_uri": "https://localhost:8080/",
          "height": 625
        },
        "outputId": "dd466ad8-bd6c-45e1-c277-ad8b9005f6e3"
      },
      "source": [
        "from sklearn.linear_model import LinearRegression\n",
        "regr = LinearRegression(fit_intercept = False).fit(X, y)\n",
        "f = regr.predict(X)\n",
        "print('Weights:',regr.coef_)\n",
        "\n",
        "plt.figure();plt.plot(y,f,'o');plt.grid();plt.xlabel('True value');plt.ylabel('Predicted value');plt.title('Regression Scatter Plot')\n",
        "\n",
        "# No need to append 1 to feature vector using below\n",
        "from sklearn.linear_model import LinearRegression\n",
        "regr = LinearRegression(fit_intercept = True).fit(X0, y)\n",
        "f = regr.predict(X0)\n",
        "print('Weights:',regr.coef_)\n",
        "plt.figure();plt.plot(y,f,'o');plt.grid();plt.xlabel('True value');plt.ylabel('Predicted value');plt.title('Regression Scatter Plot')\n"
      ],
      "execution_count": null,
      "outputs": [
        {
          "output_type": "stream",
          "text": [
            "[1.25 2.25]\n",
            "[1.25]\n"
          ],
          "name": "stdout"
        },
        {
          "output_type": "execute_result",
          "data": {
            "text/plain": [
              "Text(0.5, 1.0, 'Regression Scatter Plot')"
            ]
          },
          "metadata": {
            "tags": []
          },
          "execution_count": 16
        },
        {
          "output_type": "display_data",
          "data": {
            "image/png": "[encoded data removed]",
            "text/plain": [
              "<Figure size 432x288 with 1 Axes>"
            ]
          },
          "metadata": {
            "tags": []
          }
        },
        {
          "output_type": "display_data",
          "data": {
            "image/png": "[encoded data removed]",
            "text/plain": [
              "<Figure size 432x288 with 1 Axes>"
            ]
          },
          "metadata": {
            "tags": []
          }
        }
      ]
    },
    {
      "cell_type": "markdown",
      "metadata": {
        "id": "sGjlCeQmVomD"
      },
      "source": [
        "# Regression Exercise: \r\n",
        "\r\n",
        "1. You are given the height and weight data for a set of individuals below. Use OLS to find the linear function that allows you to predict weight of a person given their height. [40]\r\n",
        "2. Plot the scatter plot of the true vs. predicted dependent variable. [20]\r\n",
        "3. Calculate the pearson correlation between the true and predicted variables. [20]\r\n",
        "4. Write, in your own words, the limitations of OLS. [20]"
      ]
    },
    {
      "cell_type": "code",
      "metadata": {
        "id": "cE-bXiBZVcHt"
      },
      "source": [
        "import numpy as np\r\n",
        "weights = np.array([73,95,72,69,76,82,95,89,89,83,94,89,103]) #in kg\r\n",
        "heights = np.array([56,73,60,54,56,62,77,73,72,69,74,67,84,]) #in inches\r\n",
        "\r\n",
        "# your code goes here."
      ],
      "execution_count": null,
      "outputs": []
    }
  ]
}