{
  "nbformat": 4,
  "nbformat_minor": 0,
  "metadata": {
    "colab": {
      "name": "clustering.ipynb",
      "provenance": [],
      "authorship_tag": "ABX9TyMGQJjarHMMv475uZEDb4Mu",
      "include_colab_link": true
    },
    "kernelspec": {
      "name": "python3",
      "display_name": "Python 3"
    }
  },
  "cells": [
    {
      "cell_type": "markdown",
      "metadata": {
        "id": "view-in-github",
        "colab_type": "text"
      },
      "source": [
        "<a href=\"https://colab.research.google.com/github/shaneahmed/StatswithPython/blob/main/clustering.ipynb\" target=\"_parent\"><img src=\"https://colab.research.google.com/assets/colab-badge.svg\" alt=\"Open In Colab\"/></a>"
      ]
    },
    {
      "cell_type": "markdown",
      "metadata": {
        "id": "eNEPOZoV_SA9"
      },
      "source": [
        "# Clustering\r\n",
        "by Fayyaz Minhas\r\n",
        "\r\n",
        "---\r\n",
        "\r\n",
        "Your Name: (your name goes here)\r\n",
        "\r\n",
        "---\r\n",
        "\r\n",
        "In this notebook, we shall explore how to use k-means clustering to gain a better understanding of the iris data set. The idea is to identify how the data set is organized in an \"unsupervised\" manner and the comparing to the known class labels for these instances. \r\n",
        "\r\n",
        "We begin by loading the data, doing k-means clustering into 3 clusters as below. "
      ]
    },
    {
      "cell_type": "code",
      "metadata": {
        "colab": {
          "base_uri": "https://localhost:8080/"
        },
        "id": "A-Hu6yRL8zJA",
        "outputId": "65c82e6a-d74a-4b82-bc16-bee2a37ed750"
      },
      "source": [
        "from sklearn import datasets\r\n",
        "iris = datasets.load_iris()\r\n",
        "X = iris.data\r\n",
        "Y = iris.target\r\n",
        "from sklearn.cluster import KMeans\r\n",
        "kmeans = KMeans(n_clusters=3).fit(X)\r\n",
        "C = kmeans.predict(X)"
      ],
      "execution_count": 7,
      "outputs": [
        {
          "output_type": "stream",
          "text": [
            "IRIS data dimensions (150, 4)\n"
          ],
          "name": "stdout"
        }
      ]
    },
    {
      "cell_type": "code",
      "metadata": {
        "colab": {
          "base_uri": "https://localhost:8080/"
        },
        "id": "-HRfppl9BEW6",
        "outputId": "457aca0d-818a-4a5a-8ffa-d4879b6f03e8"
      },
      "source": [
        "print('Cluster Assignment',C)\r\n",
        "print('True Type',Y)"
      ],
      "execution_count": 8,
      "outputs": [
        {
          "output_type": "stream",
          "text": [
            "Cluster Assignment [1 1 1 1 1 1 1 1 1 1 1 1 1 1 1 1 1 1 1 1 1 1 1 1 1 1 1 1 1 1 1 1 1 1 1 1 1\n",
            " 1 1 1 1 1 1 1 1 1 1 1 1 1 0 0 2 0 0 0 0 0 0 0 0 0 0 0 0 0 0 0 0 0 0 0 0 0\n",
            " 0 0 0 2 0 0 0 0 0 0 0 0 0 0 0 0 0 0 0 0 0 0 0 0 0 0 2 0 2 2 2 2 0 2 2 2 2\n",
            " 2 2 0 0 2 2 2 2 0 2 0 2 0 2 2 0 0 2 2 2 2 2 0 2 2 2 2 0 2 2 2 0 2 2 2 0 2\n",
            " 2 0]\n",
            "True Type [0 0 0 0 0 0 0 0 0 0 0 0 0 0 0 0 0 0 0 0 0 0 0 0 0 0 0 0 0 0 0 0 0 0 0 0 0\n",
            " 0 0 0 0 0 0 0 0 0 0 0 0 0 1 1 1 1 1 1 1 1 1 1 1 1 1 1 1 1 1 1 1 1 1 1 1 1\n",
            " 1 1 1 1 1 1 1 1 1 1 1 1 1 1 1 1 1 1 1 1 1 1 1 1 1 1 2 2 2 2 2 2 2 2 2 2 2\n",
            " 2 2 2 2 2 2 2 2 2 2 2 2 2 2 2 2 2 2 2 2 2 2 2 2 2 2 2 2 2 2 2 2 2 2 2 2 2\n",
            " 2 2]\n"
          ],
          "name": "stdout"
        }
      ]
    },
    {
      "cell_type": "markdown",
      "metadata": {
        "id": "eBrzasvQBPBa"
      },
      "source": [
        "1. Can you identify the correspondence between the clusters and the true labels? [30]\r\n",
        "2. What is your subjective assessment of the correctness of clustering? [40]\r\n",
        "3. What are the differences between the average features for the 3 groups? [30]"
      ]
    }
  ]
}