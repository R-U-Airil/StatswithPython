{
 "cells": [
  {
   "cell_type": "markdown",
   "metadata": {},
   "source": [
    "<a href=\"https://colab.research.google.com/github/shaneahmed/StatswithPython/blob/main/04-Proabability.ipynb\" target=\"_blank\"><img src=\"https://colab.research.google.com/assets/colab-badge.svg\" alt=\"Open In Colab\"/></a>\n",
    "\n",
    "<a href=\"https://kaggle.com/kernels/welcome?src=https://github.com/shaneahmed/StatswithPython/blob/main/04-Proabability.ipynb\" target=\"_blank\"><img src=\"https://kaggle.com/static/images/open-in-kaggle.svg\" alt=\"Open In Kaggle\"/></a>"
   ]
  },
  {
   "attachments": {},
   "cell_type": "markdown",
   "metadata": {},
   "source": [
    "# Probability\n",
    "\n",
    "### by Shan E Ahmed Raza\n",
    "---\n",
    "\n",
    "\n",
    "\n",
    "**Name: (Please write your name and ID here prior to submission)**\n",
    "\n",
    "\n",
    "\n",
    "---\n",
    "Credits to [Statistical Applications for the Behavioral and Social Sciences, 2nd Edition\n",
    "by K. Paul Nesselroade Jr, Laurence G. Grimm](https://www.wiley.com/en-us/Statistical+Applications+for+the+Behavioral+and+Social+Sciences%2C+2nd+Edition-p-9781119355397).\n",
    "\n",
    "As discussed in lecture slides probability can be defined as:\n",
    "\n",
    "𝑃=(𝑛𝑢𝑚𝑏𝑒𝑟 𝑜𝑓 𝑓𝑎𝑣𝑜𝑢𝑟𝑎𝑏𝑙𝑒 𝑒𝑣𝑒𝑛𝑡𝑠)/(𝑡𝑜𝑡𝑎𝑙 𝑛𝑢𝑚𝑏𝑒𝑟 𝑜𝑓 𝑒𝑣𝑒𝑛𝑡𝑠)"
   ]
  },
  {
   "cell_type": "markdown",
   "metadata": {},
   "source": [
    "## Probability of a favorable event\n",
    "What is the probability of getting a spade with the draw of a single card from a deck of 52?"
   ]
  },
  {
   "cell_type": "code",
   "execution_count": 4,
   "metadata": {},
   "outputs": [
    {
     "name": "stdout",
     "output_type": "stream",
     "text": [
      "0.25\n"
     ]
    }
   ],
   "source": [
    "# sample space\n",
    "total_number_of_cards = 52\n",
    "\n",
    "# favorable outcomes\n",
    "number_of_favorable_cards = 13\n",
    "\n",
    "P_heads = number_of_favorable_cards/total_number_of_cards\n",
    "print(P_heads)"
   ]
  },
  {
   "cell_type": "markdown",
   "metadata": {},
   "source": [
    "## The Addition Rule\n",
    "### Mutually Exclusive Event\n",
    "Assume that we roll one die. What is the probability of coming up with a 2 or a 5?"
   ]
  },
  {
   "cell_type": "code",
   "execution_count": 8,
   "metadata": {},
   "outputs": [
    {
     "name": "stdout",
     "output_type": "stream",
     "text": [
      "0.3333333333333333\n"
     ]
    }
   ],
   "source": [
    "# event A (rolling a 2)\n",
    "# event B (rolling a 5)\n",
    "\n",
    "# sample space\n",
    "total_number_of_outcomes = 6\n",
    "\n",
    "# favorable outcomes event A\n",
    "number_of_favorable_outcomes_A = 1\n",
    "\n",
    "# favorable outcomes event B\n",
    "number_of_favorable_outcomes_B = 1\n",
    "\n",
    "P_A = number_of_favorable_outcomes_A/total_number_of_outcomes\n",
    "\n",
    "P_B = number_of_favorable_outcomes_B/total_number_of_outcomes\n",
    "\n",
    "P_A_or_B = P_A+P_B\n",
    "\n",
    "print(P_A_or_B)\n"
   ]
  },
  {
   "cell_type": "markdown",
   "metadata": {},
   "source": [
    "### Not Mutually Exclusive Event\n",
    "Suppose we are about to win a game if we roll either an even number or a number greater than 4. What are our chances of winning?"
   ]
  },
  {
   "cell_type": "code",
   "execution_count": 16,
   "metadata": {},
   "outputs": [
    {
     "name": "stdout",
     "output_type": "stream",
     "text": [
      "0.6666666666666666\n"
     ]
    }
   ],
   "source": [
    "# event A (even number)\n",
    "# event B (number greater than 4)\n",
    "\n",
    "# sample space\n",
    "S = {1,2,3,4,5,6}\n",
    "\n",
    "# favorable outcomes event A\n",
    "A = {2, 4, 6}\n",
    "\n",
    "# favorable outcomes event B\n",
    "B = {5, 6}\n",
    "\n",
    "P_A = len(A)/len(S)\n",
    "P_B = len(B)/len(S)\n",
    "\n",
    "AandB = A.intersection(B)\n",
    "\n",
    "P_AandB = len(A.intersection(B))/len(S)\n",
    "\n",
    "P = P_A + P_B - P_AandB\n",
    "print(P)\n"
   ]
  },
  {
   "cell_type": "markdown",
   "metadata": {},
   "source": [
    "## The Multiplication Rule\n",
    "### Independent Events"
   ]
  },
  {
   "cell_type": "markdown",
   "metadata": {},
   "source": [
    "What is the probability of getting both a heads on the coin flip and a 5 on the roll of the die?"
   ]
  },
  {
   "cell_type": "code",
   "execution_count": 17,
   "metadata": {},
   "outputs": [
    {
     "name": "stdout",
     "output_type": "stream",
     "text": [
      "0.08333333333333333\n"
     ]
    }
   ],
   "source": [
    "P_A = 1/2 # A heads on the coin flip\n",
    "P_B = 1/6 # A 5 on the roll of the dice\n",
    "\n",
    "P = P_A * P_B # independent events\n",
    "print(P)"
   ]
  },
  {
   "cell_type": "code",
   "execution_count": 19,
   "metadata": {},
   "outputs": [
    {
     "data": {
      "text/plain": [
       "0.08333333333333333"
      ]
     },
     "execution_count": 19,
     "metadata": {},
     "output_type": "execute_result"
    }
   ],
   "source": [
    "1/12"
   ]
  },
  {
   "cell_type": "markdown",
   "metadata": {},
   "source": [
    "### Dependent Events\n",
    "What is the probability of randomly selecting a person from the campus student population that is both a psychology major and a biological female?\\\n",
    "**Given** Suppose it is known that 10% of the student population are psychology\n",
    "majors, 80% of the psychology majors are biological females, and 60% of the\n",
    "entire student population are biological females."
   ]
  },
  {
   "cell_type": "code",
   "execution_count": 37,
   "metadata": {},
   "outputs": [
    {
     "name": "stdout",
     "output_type": "stream",
     "text": [
      "0.080\n"
     ]
    }
   ],
   "source": [
    "P_A = 0.6 # event A, the student is biological female\n",
    "P_B = 0.1 # event B, psycology major student\n",
    "P_AgivenB = 0.8 # probability of being biological female given the student is psycology major\n",
    "\n",
    "P_AandB = P_AgivenB*P_B\n",
    "print('{0:2.3f}'.format(P_AandB))"
   ]
  },
  {
   "cell_type": "markdown",
   "metadata": {},
   "source": [
    "## Conditional Probability\n",
    "Imagine an urn filled with balls. These balls have different colors and also have either an “X” or a “Y” on them. Let us further stipulate that each ball is equally likely to be drawn. Now suppose the urn we are working with has the following contents:\n",
    "\n",
    "| Type        | Number      |\n",
    "| ----------- | ----------- |\n",
    "| Red-X       | 20          |\n",
    "| Red-Y       | 20          |\n",
    "| Green-X     | 10          | \n",
    "| Green-Y     | 50          |\n",
    "\n",
    "\n",
    "Given the probabilistic situation above, what is the conditional probabilities P(Red|X)?"
   ]
  },
  {
   "cell_type": "code",
   "execution_count": 39,
   "metadata": {},
   "outputs": [
    {
     "name": "stdout",
     "output_type": "stream",
     "text": [
      "0.6666666666666667\n"
     ]
    }
   ],
   "source": [
    "# P(A|B) = P(A and B)/P(B)\n",
    "# P(Red|X) = P(Red and X)/P(X)\n",
    "\n",
    "P_X = 0.3 # given in table\n",
    "P_RedandX = 0.2 # given in table\n",
    "\n",
    "P_RedgivenX = P_RedandX/P_X\n",
    "print(P_RedgivenX)\n"
   ]
  },
  {
   "cell_type": "markdown",
   "metadata": {},
   "source": [
    "## Exercise\n",
    "1. What is the probability of getting an ace with the draw of a single card from a deck of 52? What will be the probability if we include the two joker cards to the deck. [10] \n",
    "2. What is the probability of randomly selecting a 3, 7, or 9 from a deck of cards? [10]\n",
    "3. What is the probability of getting an ace or a spade with the draw of a single card from a deck of 52? Use the addition rule to solve this problem. [10]\n",
    "4. Suppose the probability of student `X` earning an A is 0.9 and the probability of student `Y` earning an A is 0.5. Assuming student `X` and `Y` have no interaction at all. What is the probability that both the students will get an A in this course? [10]\n",
    "5. Consider drawing two cards from a deck of 52 cards, without replacement (Without replacement means you do not place the first card back into the deck once removed). What is the probability that both cards will be black. [20]\n",
    "6. From the example provided above in conditional probability section. what are the following conditional probabilities? P(Red|Y), P(Green|X), and P(Green|Y)? [20]"
   ]
  },
  {
   "cell_type": "code",
   "execution_count": null,
   "metadata": {},
   "outputs": [],
   "source": []
  }
 ],
 "metadata": {
  "kernelspec": {
   "display_name": "Python 3",
   "language": "python",
   "name": "python3"
  },
  "language_info": {
   "codemirror_mode": {
    "name": "ipython",
    "version": 3
   },
   "file_extension": ".py",
   "mimetype": "text/x-python",
   "name": "python",
   "nbconvert_exporter": "python",
   "pygments_lexer": "ipython3",
   "version": "3.7.7"
  }
 },
 "nbformat": 4,
 "nbformat_minor": 4
}
