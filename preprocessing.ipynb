{
  "nbformat": 4,
  "nbformat_minor": 0,
  "metadata": {
    "colab": {
      "name": "preprocessing.ipynb",
      "provenance": [],
      "authorship_tag": "ABX9TyM//gTVnlVIQcW3l185ILl+",
      "include_colab_link": true
    },
    "kernelspec": {
      "name": "python3",
      "display_name": "Python 3"
    }
  },
  "cells": [
    {
      "cell_type": "markdown",
      "metadata": {
        "id": "view-in-github",
        "colab_type": "text"
      },
      "source": [
        "<a href=\"https://colab.research.google.com/github/shaneahmed/StatswithPython/blob/main/preprocessing.ipynb\" target=\"_parent\"><img src=\"https://colab.research.google.com/assets/colab-badge.svg\" alt=\"Open In Colab\"/></a>"
      ]
    },
    {
      "cell_type": "markdown",
      "metadata": {
        "id": "TBw2CN0PUd24"
      },
      "source": [
        "# Preprocessing\n",
        "### By Fayyaz Minhas\n",
        "---\n",
        "Name: (Please enter your name and ID here prior to submission)\n",
        "\n",
        "---\n",
        "\n",
        "In this exercise, we shall analyze the effects of different types of data transformations on the probability distribution of a random variable. \n",
        "\n",
        "We begin with generating some Gaussian distributed data with a mean of 100 and a standard deviation of 10 and plot its histogram. We then use standardization (subtraction of the mean and division by the standard deviation) preprocessing and plot the histogram. "
      ]
    },
    {
      "cell_type": "code",
      "metadata": {
        "colab": {
          "base_uri": "https://localhost:8080/",
          "height": 279
        },
        "id": "QOdRUa8hTYUN",
        "outputId": "54205560-355a-44de-8e1c-2174e2a8b8c0"
      },
      "source": [
        "import numpy as np\n",
        "import matplotlib.pyplot as plt\n",
        "\n",
        "N = 10000\n",
        "s = np.random.normal(100,10,N)\n",
        "plt.hist(s);plt.xlabel('x');plt.ylabel('counts');plt.show()"
      ],
      "execution_count": 8,
      "outputs": [
        {
          "output_type": "display_data",
          "data": {
            "image/png": "[encoded data removed]",
            "text/plain": [
              "<Figure size 432x288 with 1 Axes>"
            ]
          },
          "metadata": {
            "tags": [],
            "needs_background": "light"
          }
        }
      ]
    },
    {
      "cell_type": "code",
      "metadata": {
        "colab": {
          "base_uri": "https://localhost:8080/",
          "height": 279
        },
        "id": "s9K_erJET1ZG",
        "outputId": "e39fd887-e010-46b7-a46c-26135631d94b"
      },
      "source": [
        "sp = (s-np.mean(s))/np.std(s) #standardization\n",
        "plt.hist(sp);plt.xlabel('x\\'');plt.ylabel('counts');plt.show()"
      ],
      "execution_count": 10,
      "outputs": [
        {
          "output_type": "display_data",
          "data": {
            "image/png": "[encoded data removed]",
            "text/plain": [
              "<Figure size 432x288 with 1 Axes>"
            ]
          },
          "metadata": {
            "tags": [],
            "needs_background": "light"
          }
        }
      ]
    },
    {
      "cell_type": "markdown",
      "metadata": {
        "id": "toR2cZsTVqKx"
      },
      "source": [
        "## Questions\n",
        "1. What changes do you observe in the histogram after standardization? [5]\n",
        "2. What is the mean of the data after standardization? [5]\n",
        "3. What is the variance of the data after standardization? [5]\n",
        "4. Preprocess the data in accordance with the following preprocessing schemes and report your observations on and reasoning for the differences between the histograms before and after the preprocessing: a). Log transform, b.)Binarization, c). Discretization into 3 levels, d). Min-Max Scaling, e). Rank Transformation [20]\n",
        "\n"
      ]
    },
    {
      "cell_type": "code",
      "metadata": {
        "id": "KXLSKA8ca7kQ"
      },
      "source": [
        "#Write your code here"
      ],
      "execution_count": null,
      "outputs": []
    },
    {
      "cell_type": "markdown",
      "metadata": {
        "id": "5i-zC4e1aneb"
      },
      "source": [
        "## Introducing sklearn\n",
        "\n",
        "Scikit-learn is a commonly used machine learning package in Python. It is pretty simple to use and has some basic data sets for us to get started. We shall be using sklearn for studying multivariate analysis, regression, clustering and linar models. \n",
        "\n",
        "We begin by loading the iris dataset (https://en.wikipedia.org/wiki/Iris_flower_data_set) which consists of 150 examples of flowers each with 4 features (sepal length, sepal width, petal length, petal width) and a corresponding species identifier (0: setosa,1: versicolor,2: virginica). The code for loading the data is given below. "
      ]
    },
    {
      "cell_type": "code",
      "metadata": {
        "colab": {
          "base_uri": "https://localhost:8080/"
        },
        "id": "cech9C8aaCYx",
        "outputId": "39971033-b68a-4216-a30a-d08e7274300a"
      },
      "source": [
        "from sklearn import datasets\n",
        "iris = datasets.load_iris()\n",
        "X = iris.data\n",
        "Y = iris.target\n",
        "print('IRIS data dimensions',X.shape)\n",
        "print('IRIS targets',Y)\n",
        "print('IRIS target names',iris.target_names)"
      ],
      "execution_count": 23,
      "outputs": [
        {
          "output_type": "stream",
          "text": [
            "IRIS data dimensions (150, 4)\n",
            "IRIS targets [0 0 0 0 0 0 0 0 0 0 0 0 0 0 0 0 0 0 0 0 0 0 0 0 0 0 0 0 0 0 0 0 0 0 0 0 0\n",
            " 0 0 0 0 0 0 0 0 0 0 0 0 0 1 1 1 1 1 1 1 1 1 1 1 1 1 1 1 1 1 1 1 1 1 1 1 1\n",
            " 1 1 1 1 1 1 1 1 1 1 1 1 1 1 1 1 1 1 1 1 1 1 1 1 1 1 2 2 2 2 2 2 2 2 2 2 2\n",
            " 2 2 2 2 2 2 2 2 2 2 2 2 2 2 2 2 2 2 2 2 2 2 2 2 2 2 2 2 2 2 2 2 2 2 2 2 2\n",
            " 2 2]\n",
            "IRIS target names ['setosa' 'versicolor' 'virginica']\n"
          ],
          "name": "stdout"
        }
      ]
    },
    {
      "cell_type": "markdown",
      "metadata": {
        "id": "oNVkIK4mcuGy"
      },
      "source": [
        "## Questions:\n",
        "\n",
        "5. Generate the scatter matrix of the Iris dataset. [15]\n",
        "6. State your general observations about the general associative patterns between different features. [10]\n",
        "7. State your general observations about the differences in terms of feature values for different species of these flowers. [10]"
      ]
    },
    {
      "cell_type": "code",
      "metadata": {
        "id": "Ya3iwvgOb12G"
      },
      "source": [
        "# your code goes here"
      ],
      "execution_count": null,
      "outputs": []
    },
    {
      "cell_type": "markdown",
      "metadata": {
        "id": "LRIlkj4Teo1F"
      },
      "source": [
        "## Preprocessing and Data Imputation with sklearn\n",
        "\n",
        "Sklearn provides data scaling and preprocessing support for multivariable data. Familiarize yourself with the builtin standardscaler (https://scikit-learn.org/stable/modules/generated/sklearn.preprocessing.StandardScaler.html). Below is a simple example. If you want to go in more depth, you may also want to look at: https://scikit-learn.org/stable/auto_examples/preprocessing/plot_all_scaling.html#sphx-glr-auto-examples-preprocessing-plot-all-scaling-py "
      ]
    },
    {
      "cell_type": "code",
      "metadata": {
        "colab": {
          "base_uri": "https://localhost:8080/"
        },
        "id": "5FYp9T_kfU3N",
        "outputId": "510948fc-1af3-473c-faea-80df5d0eaee4"
      },
      "source": [
        "from sklearn.preprocessing import StandardScaler\n",
        "data = [[0, 0], [0, 0], [1, 1], [1, 1]]\n",
        "scaler = StandardScaler()\n",
        "scaler.fit(data)\n",
        "tdata = scaler.transform(data)\n",
        "print('Original Data\\n',data)\n",
        "print('Transformed Data\\n',tdata)\n",
        "print('Mean of each feature',scaler.mean_)\n",
        "print('Variance of each feature',scaler.var_)\n"
      ],
      "execution_count": 28,
      "outputs": [
        {
          "output_type": "stream",
          "text": [
            "Original Data\n",
            " [[0, 0], [0, 0], [1, 1], [1, 1]]\n",
            "Transformed Data\n",
            " [[-1. -1.]\n",
            " [-1. -1.]\n",
            " [ 1.  1.]\n",
            " [ 1.  1.]]\n",
            "Mean of each feature [0.5 0.5]\n",
            "Variance of each feature [0.25 0.25]\n"
          ],
          "name": "stdout"
        }
      ]
    },
    {
      "cell_type": "markdown",
      "metadata": {
        "id": "H6Og7R1WgW4x"
      },
      "source": [
        "Sklearn also provides support for data imputation (see: https://scikit-learn.org/stable/modules/impute.html) with a minimalistic example on data imputation below. \n",
        "\n"
      ]
    },
    {
      "cell_type": "code",
      "metadata": {
        "colab": {
          "base_uri": "https://localhost:8080/"
        },
        "id": "08CzHsIlfcpX",
        "outputId": "a9560aa1-deb7-46b8-eb4d-8a63a4fac4e7"
      },
      "source": [
        "import numpy as np\n",
        "from sklearn.impute import SimpleImputer\n",
        "imp = SimpleImputer(missing_values=np.nan, strategy='mean')\n",
        "data = np.array([[1, 2], [np.nan, 3], [7, 6]])\n",
        "imp.fit(data)\n",
        "idata = imp.transform(data)\n",
        "print('Imputed Data \\n',idata)"
      ],
      "execution_count": 30,
      "outputs": [
        {
          "output_type": "stream",
          "text": [
            "Imputed Data \n",
            " [[1. 2.]\n",
            " [4. 3.]\n",
            " [7. 6.]]\n"
          ],
          "name": "stdout"
        }
      ]
    },
    {
      "cell_type": "markdown",
      "metadata": {
        "id": "HPWqLa0chGMj"
      },
      "source": [
        "## Questions:\n",
        "\n",
        "8. Use the standard scaler and minmax scaler in sklearn to transform the iris data and verify (through scatter plots) the impact of the transformation. [30]"
      ]
    },
    {
      "cell_type": "code",
      "metadata": {
        "id": "0_CICEc6gxyB"
      },
      "source": [
        "#your code here"
      ],
      "execution_count": null,
      "outputs": []
    }
  ]
}